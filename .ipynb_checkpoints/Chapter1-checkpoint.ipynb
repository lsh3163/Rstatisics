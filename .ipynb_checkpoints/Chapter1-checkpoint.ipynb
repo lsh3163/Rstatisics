{
 "cells": [
  {
   "cell_type": "markdown",
   "metadata": {},
   "source": [
    "# Chapter 1. 기초 통계 개념\n",
    "## 1.1 왜 통계학인가?\n",
    "* 통계학의 유용성은 신제품 개발, 자료 및 노동의 활용, 생산 문제 해결, 기초연구와 같은 사안을 다룰 때 이를 해결하는 도구로 가장 좋은 방법으로 쓰인다.\n",
    "\n",
    "특히, *변동성(variability)* 으로 인해 평균과 중앙값은 통계학에서 전문적인 의미를 가진다."
   ]
  },
  {
   "cell_type": "markdown",
   "metadata": {},
   "source": [
    "모집단 수준의 조사 대상의 특성을 알기 위해서는 모집단으로부터 *표본*을 추출한다."
   ]
  },
  {
   "cell_type": "markdown",
   "metadata": {},
   "source": [
    "![](./docs/picture1.JPG)"
   ]
  },
  {
   "cell_type": "markdown",
   "metadata": {},
   "source": [
    "## 1.2 모집단과 표본\n",
    "* 통계학에서 *모집단(population)* 은 같은 처리 / 방법을 사용하는 특정한 연구와 관련된 모든 개체 혹은 주제의 집합을 나타낸다.\n",
    "* 모집단을 구성하는 것을 *모집단 단위(population units)* 라 한다.\n",
    "\n",
    "모집단의 구성요소에 따라 알고자 하는 특성이 달라진다. 이는 모집단의 *내재변동성(inherent variability)* 혹은 *고유변동성(intrinsic variability)* 라 한다.\n",
    "\n",
    "모집단의 모든 구성요소를 조사하는 것을 *전수조사(census)*라 하는데, 소요 시간과 비용 문제로 일반적으로 시행하지 않는다."
   ]
  },
  {
   "cell_type": "code",
   "execution_count": 1,
   "metadata": {},
   "outputs": [],
   "source": [
    "y=sample(seq(1, 60), size=12)"
   ]
  },
  {
   "cell_type": "code",
   "execution_count": null,
   "metadata": {},
   "outputs": [],
   "source": []
  },
  {
   "cell_type": "code",
   "execution_count": null,
   "metadata": {},
   "outputs": [],
   "source": []
  }
 ],
 "metadata": {
  "kernelspec": {
   "display_name": "R [conda env:env_master]",
   "language": "R",
   "name": "conda-env-env_master-r"
  },
  "language_info": {
   "codemirror_mode": "r",
   "file_extension": ".r",
   "mimetype": "text/x-r-source",
   "name": "R",
   "pygments_lexer": "r",
   "version": "3.5.1"
  }
 },
 "nbformat": 4,
 "nbformat_minor": 2
}
